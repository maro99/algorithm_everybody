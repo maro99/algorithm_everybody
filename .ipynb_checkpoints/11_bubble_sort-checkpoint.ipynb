{
 "cells": [
  {
   "cell_type": "code",
   "execution_count": 1,
   "metadata": {},
   "outputs": [],
   "source": [
    "# 맨 앞부터 뒤로 이동하면서 이웃한 앞뒤 학생의 키를 서로 비교한다.\n",
    "# 앞에 서있는 학생의 키가 바로 뒤에 있는 학생보다 크면 두 학생의 자리를 바꾼다.\n",
    "\n",
    "# 뒤로 이동하면서 이웃한 앞 뒤 학생의 키를 비교해서 필요하면 앞뒤 학생의 위치를 서로 바꾼다. \n",
    "\n",
    "# 모든 학생이 키 순서대로 줄을 설 때까지 이과정 반복\n",
    "# ( 줄의 끝까지 확인하는 동안 자리를바꾼 적이 한 번도 없으면 모든 학생이 순서대로 줄을선것.)\n",
    "\n",
    "def bubble_sort(a):\n",
    "    n = len(a)\n",
    "    \n",
    "    for i in range(0,n)\n",
    "        if \n",
    "    \n",
    "    \n",
    "d = [2,4,5,1,3]"
   ]
  },
  {
   "cell_type": "code",
   "execution_count": null,
   "metadata": {},
   "outputs": [],
   "source": []
  }
 ],
 "metadata": {
  "kernelspec": {
   "display_name": "Python 3",
   "language": "python",
   "name": "python3"
  },
  "language_info": {
   "codemirror_mode": {
    "name": "ipython",
    "version": 3
   },
   "file_extension": ".py",
   "mimetype": "text/x-python",
   "name": "python",
   "nbconvert_exporter": "python",
   "pygments_lexer": "ipython3",
   "version": "3.6.5"
  }
 },
 "nbformat": 4,
 "nbformat_minor": 2
}
