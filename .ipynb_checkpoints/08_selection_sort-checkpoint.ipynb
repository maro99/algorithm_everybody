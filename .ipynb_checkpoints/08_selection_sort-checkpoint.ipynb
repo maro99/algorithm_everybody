{
 "cells": [
  {
   "cell_type": "code",
   "execution_count": 1,
   "metadata": {},
   "outputs": [],
   "source": [
    "# 주어진 리스트 안의 자료를 작은 수부터 큰 수 순서로 배열하는 정렬 알고리즘을 만들어봐라.\n",
    "# (10명중 순서대로 키작은 사람 뽑는다 생각하면 좋다.)"
   ]
  },
  {
   "cell_type": "code",
   "execution_count": 2,
   "metadata": {},
   "outputs": [],
   "source": [
    "# 쉽게 서명한 선택정렬 알고리즘: 정렬 원리를 이해하기 위한 참고용 프로그램"
   ]
  },
  {
   "cell_type": "code",
   "execution_count": 12,
   "metadata": {},
   "outputs": [
    {
     "name": "stdout",
     "output_type": "stream",
     "text": [
      "[1, 2, 3, 4, 5]\n"
     ]
    }
   ],
   "source": [
    "# 쉽게 설명한 선택정렬\n",
    "# 입력: 리스트 a \n",
    "# 출력 : 정렬된 새 리스트\n",
    "# 주어진 리스트에서 최솟값의 위치를 돌려주는 함수\n",
    "\n",
    "def find_min_idx(a):\n",
    "    n = len(a)\n",
    "    min_idx = 0\n",
    "    for i in range(1,n):\n",
    "        if a[i] < a[min_idx]:\n",
    "            min_idx = i\n",
    "    return min_idx\n",
    "\n",
    "def sel_sort(a):\n",
    "    result = [] # 새 리스트를 만들어 정렬된 값을 저장\n",
    "    while a :   # 주어진 리스트에 값이 남아있는 동안\n",
    "        min_idx = find_min_idx(a)\n",
    "        value = a.pop(min_idx)\n",
    "        result.append(value)\n",
    "    return result\n",
    "\n",
    "d = [2,4,5,1,3]\n",
    "print(sel_sort(d))"
   ]
  },
  {
   "cell_type": "code",
   "execution_count": 13,
   "metadata": {},
   "outputs": [],
   "source": [
    "# d일반적인 선택 정렬 알고리즘: 정렬 알고리즘을 정식으로 구현한 프로그램\n",
    "# 좀더 효울적으로 구현함. 입력으로 주어진 리스트 a안에서 직접 자료의 위치를 바꾸면서 정렬시키는 프로그램.\n",
    "# 리스트a 에서 자료를 하나씩 빼낸 후 다시 result에 넣는 방식보다 더 효율적으로 정렬 가능"
   ]
  },
  {
   "cell_type": "code",
   "execution_count": 30,
   "metadata": {},
   "outputs": [
    {
     "name": "stdout",
     "output_type": "stream",
     "text": [
      "[0, 1, 2, 3, 4, 6, 8, 9]\n"
     ]
    }
   ],
   "source": [
    "# 선택정렬\n",
    "# 입력:리스트a \n",
    "# 출력: 없음(입력으로 주어진 a가 정렬됨)\n",
    "\n",
    "def sel_sort2(a):\n",
    "    n = len(a)\n",
    "    for i in range(0, n-1): # 0부터 n-2까지 반복\n",
    "        # i 번 위치부터 끝가지 자료 값 중 최솟값의 위치를 찾음\n",
    "        \n",
    "        min_idx = i\n",
    "        for j in range(i+1,n):\n",
    "            if a[j] < a[min_idx]:\n",
    "                min_idx = j\n",
    "        \n",
    "        a[i] , a[min_idx] =  a[min_idx], a[i] \n",
    "        \n",
    "        \n",
    "\n",
    "        \n",
    "d = [9,1,6,8,4,3,2,0]\n",
    "sel_sort2(d)\n",
    "print(d)"
   ]
  },
  {
   "cell_type": "markdown",
   "metadata": {},
   "source": [
    "```\n",
    "자룔를 크기 순서로 정렬하려면 반드시 두 수의 크기를 비교해야 한다.\n",
    "따라서 정렬 알고리즘의 계산 복잡도는 보통 비교 횟수를 기준으로 따진다.\n",
    "\n",
    "이 알고리즘은 비교를 총 1,2,3,4,....n 다 더한 n(n-1)/2 번 해야되는 계산 복잡도가 O(n^2)인 알고리즘이다. \n",
    "\n",
    "입력 크기가 커지면 커질 수록 정렬하는데 시간이 굉장히 오래 걸린다. \n",
    "```"
   ]
  },
  {
   "cell_type": "code",
   "execution_count": null,
   "metadata": {},
   "outputs": [],
   "source": []
  }
 ],
 "metadata": {
  "kernelspec": {
   "display_name": "Python 3",
   "language": "python",
   "name": "python3"
  },
  "language_info": {
   "codemirror_mode": {
    "name": "ipython",
    "version": 3
   },
   "file_extension": ".py",
   "mimetype": "text/x-python",
   "name": "python",
   "nbconvert_exporter": "python",
   "pygments_lexer": "ipython3",
   "version": "3.6.5"
  }
 },
 "nbformat": 4,
 "nbformat_minor": 2
}
