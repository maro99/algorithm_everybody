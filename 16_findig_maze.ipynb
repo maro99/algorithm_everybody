{
 "cells": [
  {
   "cell_type": "markdown",
   "metadata": {},
   "source": [
    "### 16 . 미로 찾기 알고리즘\n",
    "\n",
    "다음 그림과 가이 미로의 형태와 출발점과 도착점이 주어졌을 때    \n",
    "출발점에서 도착점까지 가기 위한 최단 경로를 찾는 알고리즘을 만들어라  \n",
    "\n",
    "\n",
    "#### 1. 문제 분석과 모델링 \n",
    "\n",
    "```\n",
    " 출발 \n",
    "#  ###########\n",
    "#  #         #  \n",
    "#  #   #######\n",
    "#  #         #  \n",
    "#  #   ####  #\n",
    "#         #  #\n",
    "#      #  #  #\n",
    "###########  #\n",
    "           도착\n",
    "```\n",
    "\n",
    "컴퓨터에게 이 문제를 이해하고 풀게 할 아이디어는 바로 떠오르지 않는다.   \n",
    "이때 모델링이 필요하다.   \n",
    "모델링이란 주어진 현실의 문제를 정형화하거나 단순화하여 수학이나 컴퓨터 프로그램으로 쉽게 설명할 수 있도록 다시 표현한것.  \n",
    "\n",
    "이 문제에서는 미로안의 공간을 정형화 해야 한다.   \n",
    "잘 생각해 보면 4x4로된 간단한 미로이다.   \n",
    "먼저 이동 가능한 위치를 각각의 구역으로 나누고 구역마다 알파벳으로 이름을 붙인다.\n",
    "\n",
    "```\n",
    " 출발 \n",
    "#a ###########\n",
    "#  # b  c  d #  \n",
    "#  #   #######\n",
    "#e # f  g  h #  \n",
    "#  #   ####  #\n",
    "#i  j   k #l #\n",
    "#m  n  #o # p#\n",
    "###########  #\n",
    "           도착\n",
    "```\n",
    "\n",
    "이 모델을 이용해서 미로 찾기 문제와 정답을 다시 적어보면 다음과 같이 표현 할 수 있다.  \n",
    "\n",
    "##### 출발점 a 에서 시작하여 벽으로 박히지 않은 위치로 차례로 이동하여 도착점 p 에 이르는 가장 짧은 경로를 구하고 , 그 과정에서 지나간 위치의 이름을 출력해 보세요 \n",
    "\n",
    "정답 aeimnjfghip  \n",
    "\n",
    "\n",
    "사실 이 문제는 15의 그래픽 탐색 문제와 같다.  \n",
    "위치 열여섯 개를 각각 꼭짓점으로 만들고, 각 위치에서 벽으로 막히지 않아 이동할 수 있는 이웃한 위치를 모두 선으로 연결하면 다음과 같이 미로 정보가 그래프로 만들어진다.  \n",
    "\n",
    "```   \n",
    "                  d    \n",
    "                 /\n",
    "                c\n",
    "               /\n",
    "              b\n",
    "             / \n",
    "a-e-i-m-n-j-f-g-h-l-p\n",
    "           \\\n",
    "            k \n",
    "             \\ \n",
    "               o\n",
    "```\n",
    "\n"
   ]
  },
  {
   "cell_type": "code",
   "execution_count": 12,
   "metadata": {},
   "outputs": [],
   "source": [
    "maze = {\n",
    "    'a':['e'],\n",
    "    'b':['c','f'],\n",
    "    'c':['b','d'],\n",
    "    'd':['c'],\n",
    "    'e':['a','i'],\n",
    "    'f':['b','g','j'],\n",
    "    'g':['f','h'],\n",
    "    'h':['g','l'],\n",
    "    'i':['e','m'],\n",
    "    'j':['n','f','k'],\n",
    "    'k':['j','o'],\n",
    "    'l':['h','p'],\n",
    "    'm':['i','n'],\n",
    "    'n':['m','j'],\n",
    "    'o':['k'],\n",
    "    'p':['l'],\n",
    "}"
   ]
  },
  {
   "cell_type": "markdown",
   "metadata": {},
   "source": [
    "#### 2. 미로 찾기 알고리즘.\n",
    "\n",
    "처음에 그림으로 주어졌던 미로 찾기 문제가 모델링을 통해 그래프가 되고,  \n",
    "그래프가 파이썬 언어가 이해할 수 있는 딕셔너리로 표현됬다.  \n",
    "이제 남은 일은 그래프 탐색 알고리즘을 적용하여 출발점부터 도착점까지 탐색하는 프로그램을 만드는것."
   ]
  },
  {
   "cell_type": "code",
   "execution_count": 20,
   "metadata": {},
   "outputs": [],
   "source": [
    "# 나 혼자 한번 풀어봄 \n",
    "\n",
    "def solve_maze(maze, start, end):\n",
    "    # p 가 나올때 까지 미로를 탐색하고 싶다. \n",
    "    \n",
    "    # 이건 모든 친구들을 탐색하는 것과 비슷하다. \n",
    "    \n",
    "    will_visit = []\n",
    "    visited = [] \n",
    "    \n",
    "    the_way = \"\"\n",
    "    the_way = the_way+start\n",
    "\n",
    "    will_visit.append((start,the_way))\n",
    "    visited.append(start)\n",
    "    \n",
    "    \n",
    "    while will_visit:\n",
    "        \n",
    "        this_block, the_way = will_visit.pop(0)\n",
    "        \n",
    "        if end in maze[this_block]:\n",
    "            print(the_way+end)\n",
    "            break\n",
    "            \n",
    "\n",
    "        # 해당 블록의 인접 블록들을 안들렸다면 들르자. \n",
    "        for block in maze[this_block]:\n",
    "            if block not in visited:\n",
    "                will_visit.append((block, the_way+block))\n",
    "                visited.append(block)\n",
    "        "
   ]
  },
  {
   "cell_type": "code",
   "execution_count": 21,
   "metadata": {},
   "outputs": [
    {
     "name": "stdout",
     "output_type": "stream",
     "text": [
      "aeimnjfghlp\n"
     ]
    }
   ],
   "source": [
    "start = 'a'\n",
    "end = 'p'\n",
    "solve_maze(maze, start, end)\n",
    "# aeimnjfghlp"
   ]
  },
  {
   "cell_type": "code",
   "execution_count": null,
   "metadata": {},
   "outputs": [],
   "source": []
  },
  {
   "cell_type": "code",
   "execution_count": 22,
   "metadata": {},
   "outputs": [],
   "source": [
    "# 책에서는 이렇게 품.\n",
    "\n",
    "def solve_maze(g, start, end):\n",
    "    qu = []                 # 기억장소 1: 앞으로 처리해야 할 이동 경로를 큐에 저장\n",
    "    done = set()            # 기억장소 2: 이미 큐에 추가한 꼭짓점들을 집합에 기록\n",
    "    \n",
    "    qu.append(start)        # 출발점을 큐에 넣고 시작\n",
    "    done.add(start)         # 집합에도 추가\n",
    "    \n",
    "    while qu:               # 큐에 처리할 경로가 남아 있으면\n",
    "        p = qu.pop(0)       # 큐에서 처리 대상을 꺼냄\n",
    "        v = p[-1]           # 큐에 저장된 이동 경로의 마지막 문자가 현재 처리해야 할 꼭짓점\n",
    "        \n",
    "        if v == end:        # 처리해야 할 꼭짓점이 도착이면(목적지 도착!)\n",
    "            return p        # 지금 까지의 전체 이동 경로를 돌려주고 종료\n",
    "        \n",
    "        for x in g[v]:      # 대상 꼭짓점에 연결된 꼭짓점들 중에 \n",
    "            if x not in done:  # 아직 큐에 추가된 적이 없는 꼭짓점을 \n",
    "                qu.append(p+x) # 이동 경로에 새 꼭짓점으로 추가하여 큐에 저장하고\n",
    "                done.add(x)    # 집합에도 추가. \n",
    "                \n",
    "                \n",
    "    # 탐색을 마칠 때까지 도착점이 나오지 않으면 나갈 수 없는 미로임\n",
    "    return \"?\"\n",
    "        \n",
    "        \n",
    "        \n",
    "        \n",
    "\n",
    "        "
   ]
  },
  {
   "cell_type": "code",
   "execution_count": 23,
   "metadata": {},
   "outputs": [
    {
     "data": {
      "text/plain": [
       "'aeimnjfghlp'"
      ]
     },
     "execution_count": 23,
     "metadata": {},
     "output_type": "execute_result"
    }
   ],
   "source": [
    "start = 'a'\n",
    "end = 'p'\n",
    "solve_maze(maze, start, end)"
   ]
  },
  {
   "cell_type": "code",
   "execution_count": null,
   "metadata": {},
   "outputs": [],
   "source": []
  }
 ],
 "metadata": {
  "kernelspec": {
   "display_name": "Python 3",
   "language": "python",
   "name": "python3"
  },
  "language_info": {
   "codemirror_mode": {
    "name": "ipython",
    "version": 3
   },
   "file_extension": ".py",
   "mimetype": "text/x-python",
   "name": "python",
   "nbconvert_exporter": "python",
   "pygments_lexer": "ipython3",
   "version": "3.6.5"
  }
 },
 "nbformat": 4,
 "nbformat_minor": 2
}
