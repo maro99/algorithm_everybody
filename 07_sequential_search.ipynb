{
 "cells": [
  {
   "cell_type": "code",
   "execution_count": 28,
   "metadata": {},
   "outputs": [],
   "source": [
    "# 주어진 리스트에 특정한 값이 있는지 찾아 그 위치를 돌려주는 알고리즘을 만들어라. 리스트에 찾는 값이 없다면 -1 돌려준다. "
   ]
  },
  {
   "cell_type": "code",
   "execution_count": null,
   "metadata": {},
   "outputs": [],
   "source": [
    "\n",
    "def search_target_in_list(list1,target_value):\n",
    "\n",
    "    for index,num in enumerate(list1):\n",
    "        if num == target_value:\n",
    "            print(f'target_value {target_value}는 {index+1}번째 에 있다.' )\n",
    "            return(index)\n",
    "    return(-1)\n",
    "            \n"
   ]
  },
  {
   "cell_type": "code",
   "execution_count": 8,
   "metadata": {},
   "outputs": [
    {
     "data": {
      "text/plain": [
       "-1"
      ]
     },
     "execution_count": 8,
     "metadata": {},
     "output_type": "execute_result"
    }
   ],
   "source": [
    "target_value = 1\n",
    "list1 = [3,4,5,6,7,0,2,3]\n",
    "search_target_in_list(list1,target_value)"
   ]
  },
  {
   "cell_type": "code",
   "execution_count": 9,
   "metadata": {},
   "outputs": [],
   "source": [
    "# 책방법대로 range써봄."
   ]
  },
  {
   "cell_type": "code",
   "execution_count": 14,
   "metadata": {},
   "outputs": [],
   "source": [
    "def search_target_in_list2(list1,target_value):\n",
    "    \n",
    "    n = len(list1)\n",
    "    for index in range(0,n):\n",
    "        if list1[index] == target_value:\n",
    "            print(f'target_value {target_value}는 {index+1}번째 에 있다.' )\n",
    "            return(index)\n",
    "    return(-1)\n",
    "            \n"
   ]
  },
  {
   "cell_type": "code",
   "execution_count": 15,
   "metadata": {},
   "outputs": [
    {
     "name": "stdout",
     "output_type": "stream",
     "text": [
      "target_value 1는 6번째 에 있다.\n"
     ]
    },
    {
     "data": {
      "text/plain": [
       "5"
      ]
     },
     "execution_count": 15,
     "metadata": {},
     "output_type": "execute_result"
    }
   ],
   "source": [
    "target_value = 1\n",
    "list1 = [3,4,5,6,7,1,2,3]\n",
    "search_target_in_list2(list1,target_value)"
   ]
  },
  {
   "cell_type": "markdown",
   "metadata": {},
   "source": [
    " ```\n",
    " 끝가지 하나도 없으면 리스트의 끝까지 다 비교해야함.\n",
    " 최악의 경우 최대 n번 비교가 필요하고 계산복잡도는 O(n)이다.\n",
    " \n",
    " 즉 100개의 자료 비교 위해서는 비교를 최대 백번해야한다.\n",
    " \n",
    " ```"
   ]
  },
  {
   "cell_type": "code",
   "execution_count": null,
   "metadata": {},
   "outputs": [],
   "source": [
    "# 7.1 찾는 값이 나오는 모든 위치를 리스트로 돌려주는 탐색 알고리즘 만들어라.\n",
    "# 찾는 값이 없다면 빈 리스트를 돌려주도록한다."
   ]
  },
  {
   "cell_type": "code",
   "execution_count": 24,
   "metadata": {},
   "outputs": [],
   "source": [
    "def search_target_in_list3(list1,target_value_list):\n",
    "    \n",
    "    result_list = []\n",
    "    \n",
    "    n = len(list1)\n",
    "    for index in range(0,n):\n",
    "        if list1[index] in target_value_list:\n",
    "            result_list.append(index)\n",
    "        \n",
    "        \n",
    "    return(result_list)"
   ]
  },
  {
   "cell_type": "code",
   "execution_count": 25,
   "metadata": {},
   "outputs": [
    {
     "data": {
      "text/plain": [
       "[0, 2, 3, 7]"
      ]
     },
     "execution_count": 25,
     "metadata": {},
     "output_type": "execute_result"
    }
   ],
   "source": [
    "target_value_list = [3,5,6]\n",
    "list1 = [3,4,5,6,7,1,2,3]\n",
    "search_target_in_list3(list1,target_value_list)"
   ]
  },
  {
   "cell_type": "code",
   "execution_count": 26,
   "metadata": {},
   "outputs": [],
   "source": [
    "# 7.2 7.1의 계산복잡도는 무엇인가?"
   ]
  },
  {
   "cell_type": "markdown",
   "metadata": {},
   "source": [
    "```\n",
    "n 이다. 최악의 경우 하나도 없으면 n번 탐색하니까.\n",
    "```"
   ]
  },
  {
   "cell_type": "code",
   "execution_count": 27,
   "metadata": {},
   "outputs": [],
   "source": [
    "# 7.3 학생번호와 이름이 리스트로 주어졌을 때 학생 번호를 입력하면 학생 번호에 해당하는 이름을 순차 탐색으로 찾아 돌려주는 함수를 만들어봐라.\n",
    "# 해당하는 학생 번호가 없으면 물음표(?)를 돌려준다. \n",
    "# 학생 번호가 39번이면 \"Justin:, 14번이면 \"John\"을 돌려준다."
   ]
  },
  {
   "cell_type": "code",
   "execution_count": 32,
   "metadata": {},
   "outputs": [],
   "source": [
    "def get_name_by_num(num):\n",
    "    stu_no = [39,14,67,105]\n",
    "    stu_name = [\"Justin\",\"John\",\"Mike\",\"Summer\"]\n",
    "    \n",
    "    \n",
    "    for index in range(0,len(stu_no)):\n",
    "        if num == stu_no[index]:\n",
    "            return stu_name[index]\n",
    "        \n",
    "    return '?'"
   ]
  },
  {
   "cell_type": "code",
   "execution_count": 35,
   "metadata": {},
   "outputs": [
    {
     "data": {
      "text/plain": [
       "'Mike'"
      ]
     },
     "execution_count": 35,
     "metadata": {},
     "output_type": "execute_result"
    }
   ],
   "source": [
    "get_name_by_num(67)"
   ]
  },
  {
   "cell_type": "code",
   "execution_count": null,
   "metadata": {},
   "outputs": [],
   "source": []
  }
 ],
 "metadata": {
  "kernelspec": {
   "display_name": "Python 3",
   "language": "python",
   "name": "python3"
  },
  "language_info": {
   "codemirror_mode": {
    "name": "ipython",
    "version": 3
   },
   "file_extension": ".py",
   "mimetype": "text/x-python",
   "name": "python",
   "nbconvert_exporter": "python",
   "pygments_lexer": "ipython3",
   "version": "3.6.5"
  }
 },
 "nbformat": 4,
 "nbformat_minor": 2
}
