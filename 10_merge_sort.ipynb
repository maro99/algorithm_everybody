{
 "cells": [
  {
   "cell_type": "code",
   "execution_count": 2,
   "metadata": {},
   "outputs": [],
   "source": [
    "# 쉽게 설명한 병합 정렬 알고리즘 "
   ]
  },
  {
   "cell_type": "code",
   "execution_count": 60,
   "metadata": {},
   "outputs": [],
   "source": [
    "# 나혼 한번해봄.\n",
    "\n",
    "def merge_sort(a):\n",
    "    \n",
    "    print(a)\n",
    "    # 1보다 작거나 같으면 그 list자체를 리턴(제귀함수의 종료조건)\n",
    "    if len(a)<=1:\n",
    "        return a\n",
    "    \n",
    "    group1 = merge_sort(a[:(len(a)//2)])\n",
    "    group2 = merge_sort(a[(len(a)//2):])\n",
    "    #이때 gorup1,2 에는 크기작은순으로 정렬된 값들어있다.\n",
    "    \n",
    "    result = []\n",
    "    # gorup1=[1,2],group2 = [4,7,5]가정해봄.\n",
    "    # group1,혹은 group2가 0이 아닌동안. \n",
    "    while group1 and group2:\n",
    "        if group1[0] > group2[0]:\n",
    "            result.append(group2.pop(0))\n",
    "        else:\n",
    "            result.append(group1.pop(0))\n",
    "    \n",
    "    # 짝수개 가 아닌 그룹의 경우 마지막 값을 반환할 결과에 더해준다. \n",
    "    # [1,2],[3,4,6] 같은 경우 group2가 다 남든데 남은 값을 다 결과에 더해주면된다. \n",
    "    if group1:\n",
    "        result = result+group1\n",
    "    \n",
    "    if group2:\n",
    "        result = result+group2\n",
    "        \n",
    "    \n",
    "    return result\n",
    "        \n",
    "    \n",
    "    \n",
    "    \n",
    "\n",
    "    \n",
    "    "
   ]
  },
  {
   "cell_type": "code",
   "execution_count": 62,
   "metadata": {},
   "outputs": [
    {
     "name": "stdout",
     "output_type": "stream",
     "text": [
      "[6, 8, 9, 10, 1, 2, 4, 7, 5]\n",
      "[6, 8, 9, 10]\n",
      "[6, 8]\n",
      "[6]\n",
      "[8]\n",
      "[9, 10]\n",
      "[9]\n",
      "[10]\n",
      "[1, 2, 4, 7, 5]\n",
      "[1, 2]\n",
      "[1]\n",
      "[2]\n",
      "[4, 7, 5]\n",
      "[4]\n",
      "[7, 5]\n",
      "[7]\n",
      "[5]\n"
     ]
    },
    {
     "data": {
      "text/plain": [
       "[1, 2, 4, 5, 6, 7, 8, 9, 10]"
      ]
     },
     "execution_count": 62,
     "metadata": {},
     "output_type": "execute_result"
    }
   ],
   "source": [
    "d = [6,8,9,10,1,2,4,7,5]\n",
    "d2 = [1]\n",
    "merge_sort(d)"
   ]
  },
  {
   "cell_type": "code",
   "execution_count": 65,
   "metadata": {},
   "outputs": [
    {
     "name": "stdout",
     "output_type": "stream",
     "text": [
      "[1, 2, 3, 4, 5, 6, 7, 8, 9, 10]\n"
     ]
    }
   ],
   "source": [
    "# 책에서 제시한 방법 \n",
    "\n",
    "# 쉽게 설명한 병합정렬\n",
    "# 입력 : 리스트 a\n",
    "# 출력: 정렬된 새 리스트\n",
    "\n",
    "def merge_sort(a):\n",
    "    n = len(a)\n",
    "    # 종료 조건 : 정렬한 리스트의 자료 개수가 한개 이하면 정렬할 필요 없음\n",
    "    if n <=1:\n",
    "        return a\n",
    "    # 그룹ㄱ을 나누어 각각 병합 정렬을 호출하는 과정\n",
    "    mid = n // 2\n",
    "    g1 = merge_sort(a[:mid])\n",
    "    g2 = merge_sort(a[mid:])\n",
    "    \n",
    "    # 두 그룹을 하나로 병합\n",
    "    result = []    # 두 그룹을 합쳐 만들 최종 결과\n",
    "    while g1 and g2: # 두 그룹에 모두 자료가 남아 있는 동안 반복\n",
    "        if g1[0] < g2[0]: # 두 그룹의 맨 앞 자료 값을 비교\n",
    "            # g1 값이 더 작으면 그 값을 빼내어 결과로 추출\n",
    "            result.append(g1.pop(0))\n",
    "            \n",
    "        else:\n",
    "            # g2 값이 더 작으면 그 값을 빼내어 결과로 추가\n",
    "            result.append(g2.pop(0))\n",
    "        \n",
    "    # 아직 남아 있는 자료들의 결과에 추가\n",
    "    # g1과 g2 중 이미 빈 것은 while을 바로 지나감.\n",
    "    while g1:\n",
    "        result.append(g1.pop(0))\n",
    "    while g2:\n",
    "        result.append(g2.pop(0))\n",
    "    return result\n",
    "\n",
    "d = [6,8,3,9,10,1,2,4,7,5]\n",
    "print(merge_sort(d))"
   ]
  },
  {
   "cell_type": "code",
   "execution_count": null,
   "metadata": {},
   "outputs": [],
   "source": []
  },
  {
   "cell_type": "code",
   "execution_count": null,
   "metadata": {},
   "outputs": [],
   "source": [
    "# 일반적인 병합 정렬 알고리즘 \n",
    "# (앞과 같지만 return 값이 없고 읿력 리스트 안의 자료 순서를 직접 바꾼다는 차이)"
   ]
  },
  {
   "cell_type": "code",
   "execution_count": 93,
   "metadata": {},
   "outputs": [
    {
     "name": "stdout",
     "output_type": "stream",
     "text": [
      "[1, 2, 3, 4, 5, 6, 7, 8, 9, 10]\n"
     ]
    }
   ],
   "source": [
    "# 따라서 해봄. \n",
    "\n",
    "# 병합 절렬\n",
    "# 입력: 리스트 a \n",
    "# 출력: 없음(입력으로 주어진 a가 정렬됨)\n",
    "\n",
    "def merge_sort(a):\n",
    "    n = len(a)\n",
    "    # 종료조건 : 정렬할 리스트의 자료 개수가 한 개 이하이면 정렬할 필요가 없음\n",
    "    if n <=1:\n",
    "        return\n",
    "    \n",
    "    # 그룹을 나누어 각각 병합 정렬을 호출하는 과정\n",
    "    mid = n //2  # 중간을 기준으로 두 그룹으로 나눔\n",
    "    g1 = a[:mid]\n",
    "    g2 = a[mid:]\n",
    "    merge_sort(g1) # 재귀 호출로 첫 번째 그룹을 정렬\n",
    "    merge_sort(g2) # 재귀 호출로 두번 째 그룹을 정렬\n",
    "    # 두 그룹을 하나로 병합\n",
    "    i1 = 0 # 그룹 1의 전진된 index\n",
    "    i2 = 0 # 그룹 2의 전진된 현제 index\n",
    "    ia = 0 # 매 while 룹 마다의 index\n",
    "    while i1 < len(g1) and i2 <len(g2):\n",
    "        if g1[i1]<g2[i2]:\n",
    "            a[ia] = g1[i1]\n",
    "            i1 +=1\n",
    "            ia +=1\n",
    "        else:\n",
    "            a[ia] = g2[i2]\n",
    "            i2 +=1\n",
    "            ia +=1\n",
    "    \n",
    "    # 아직 남아있는 자료들을 결과에 추가. \n",
    "    while i1 < len(g1):\n",
    "        a[ia] = g1[i1]\n",
    "        ia+=1\n",
    "        i1+=1\n",
    "         \n",
    "    while i2 < len(g2):\n",
    "        a[ia] = g2[i2]\n",
    "        ia+=1\n",
    "        i2+=1\n",
    "\n",
    "d = [6,8,3,9,10,1,2,4,7,5]\n",
    "merge_sort(d)\n",
    "print(d)"
   ]
  },
  {
   "cell_type": "code",
   "execution_count": null,
   "metadata": {},
   "outputs": [],
   "source": []
  },
  {
   "cell_type": "markdown",
   "metadata": {},
   "source": [
    "```\n",
    "알고리즘 분석\n",
    "\n",
    "병합 정렬을 주어진 문제를 절반으로 나눈 다음 각각을 제귀 호출로 풀어가는 방식\n",
    "큰 문제를 작은 문제로 나눠서 푸는 방법을 분할정복이라 부른다. \n",
    "\n",
    "분할정복을 이용한 병합 정렬의 계솬 복잡도는 O(n*logn) 으로 선택 정렬이나 삽입 정렬의 계산 복잡도 O(n^2) 보다 낮다.\n",
    "정렬할 자료의 개수가 많을  병합 정렬이나 삽입 정렬보다 훨씬 더 빠른 정렬 성능을 발휘한다. \n",
    "\n",
    "```"
   ]
  },
  {
   "cell_type": "code",
   "execution_count": null,
   "metadata": {},
   "outputs": [],
   "source": []
  },
  {
   "cell_type": "code",
   "execution_count": 101,
   "metadata": {},
   "outputs": [
    {
     "name": "stdout",
     "output_type": "stream",
     "text": [
      "[1, 2, 3, 4, 5, 6, 7, 8, 9, 10]\n"
     ]
    }
   ],
   "source": [
    "# 다시 나혼자 해봤음\n",
    "def merge_sort(a):\n",
    "    \n",
    "    if len(a)<=1:\n",
    "        return \n",
    "    \n",
    "    mid = len(a)//2\n",
    "    group1 = a[:mid]\n",
    "    group2 = a[mid:]\n",
    "    \n",
    "    merge_sort(group1)\n",
    "    merge_sort(group2)\n",
    "    \n",
    "    i1 = 0 # g1의 현제 비교될 위치의 index\n",
    "    i2 = 0 # g2의 현제 비교될 위치의 index \n",
    "    ia = 0 # a 의 현제 입력될 위치의 index\n",
    "    \n",
    "    while i1 <len(group1) and i2 < len(group2):\n",
    "        if group1[i1] > group2[i2]:\n",
    "            a[ia] = group2[i2]\n",
    "            ia = ia +1\n",
    "            i2 = i2 +1\n",
    "        else :\n",
    "            a[ia] = group1[i1]\n",
    "            ia = ia + 1\n",
    "            i1 = i1 + 1\n",
    "            \n",
    "    while i1 < len(group1):\n",
    "        a[ia] = group1[i1]\n",
    "        ia = ia +1\n",
    "        i1 = i1 +1\n",
    "        \n",
    "    while i2 < len(group2):\n",
    "        a[ia] = group2[i2]\n",
    "        ia = ia + 1\n",
    "        i2 = i2 + 1\n",
    "        \n",
    "d = [6,8,3,9,10,1,2,4,7,5]\n",
    "merge_sort(d)\n",
    "print(d)\n"
   ]
  },
  {
   "cell_type": "raw",
   "metadata": {},
   "source": []
  },
  {
   "cell_type": "code",
   "execution_count": null,
   "metadata": {},
   "outputs": [],
   "source": []
  },
  {
   "cell_type": "code",
   "execution_count": null,
   "metadata": {},
   "outputs": [],
   "source": []
  },
  {
   "cell_type": "code",
   "execution_count": null,
   "metadata": {},
   "outputs": [],
   "source": []
  },
  {
   "cell_type": "code",
   "execution_count": null,
   "metadata": {},
   "outputs": [],
   "source": []
  },
  {
   "cell_type": "code",
   "execution_count": null,
   "metadata": {},
   "outputs": [],
   "source": []
  }
 ],
 "metadata": {
  "kernelspec": {
   "display_name": "Python 3",
   "language": "python",
   "name": "python3"
  },
  "language_info": {
   "codemirror_mode": {
    "name": "ipython",
    "version": 3
   },
   "file_extension": ".py",
   "mimetype": "text/x-python",
   "name": "python",
   "nbconvert_exporter": "python",
   "pygments_lexer": "ipython3",
   "version": "3.6.5"
  }
 },
 "nbformat": 4,
 "nbformat_minor": 2
}
