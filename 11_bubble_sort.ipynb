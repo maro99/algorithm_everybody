{
 "cells": [
  {
   "cell_type": "markdown",
   "metadata": {},
   "source": [
    "### 거품정렬(bubble sort) \n",
    "\n",
    "1.맨 앞부터 뒤로 이동하면서 이웃한 앞뒤 학생의 키를 서로 비교한다.\n",
    " 앞에 서있는 학생의 키가 바로 뒤에 있는 학생보다 크면 두 학생의 자리를 바꾼다.\n",
    "\n",
    "2.뒤로 이동하면서 이웃한 앞 뒤 학생의 키를 비교해서 필요하면 앞뒤 학생의 위치를 서로 바꾼다. \n",
    "\n",
    "3.모든 학생이 키 순서대로 줄을 설 때까지 이과정 반복\n",
    " ( 줄의 끝까지 확인하는 동안 자리를바꾼 적이 한 번도 없으면 모든 학생이 순서대로 줄을선것.)\n",
    "\n"
   ]
  },
  {
   "cell_type": "code",
   "execution_count": 17,
   "metadata": {},
   "outputs": [],
   "source": [
    "def bubble_sort(a):\n",
    "    n = len(a)\n",
    "    \n",
    "    count = 0\n",
    "    changed = False\n",
    "    \n",
    "    while(1):\n",
    "        count+=1\n",
    "        if count == 100:\n",
    "            break\n",
    "            \n",
    "\n",
    "\n",
    "    #   그다음 itter에서  한번도 비교후 한번도 자리를 안바꿨다면 break ---> 정렬 완료 된것임.\n",
    "        if changed == False and count > 1:\n",
    "            break\n",
    "        changed = False\n",
    "        \n",
    "        for i in range(0,n-1): # 0에서 n-1까지 를 주체로 비교하겠다. \n",
    "            if a[i] > a[i+1]:\n",
    "                a[i],a[i+1] = a[i+1],a[i]\n",
    "                print(a)\n",
    "                changed =True\n",
    "                \n",
    "                \n",
    "        print(f'{count}, @@@@@@@@@@@@@@@@@@@@@')\n",
    "\n",
    "\n",
    "    \n"
   ]
  },
  {
   "cell_type": "code",
   "execution_count": 18,
   "metadata": {},
   "outputs": [
    {
     "name": "stdout",
     "output_type": "stream",
     "text": [
      "[2, 4, 1, 5, 3]\n",
      "[2, 4, 1, 3, 5]\n",
      "1, @@@@@@@@@@@@@@@@@@@@@\n",
      "[2, 1, 4, 3, 5]\n",
      "[2, 1, 3, 4, 5]\n",
      "2, @@@@@@@@@@@@@@@@@@@@@\n",
      "[1, 2, 3, 4, 5]\n",
      "3, @@@@@@@@@@@@@@@@@@@@@\n",
      "4, @@@@@@@@@@@@@@@@@@@@@\n"
     ]
    }
   ],
   "source": [
    "d = [2,4,5,1,3]\n",
    "bubble_sort(d)"
   ]
  },
  {
   "cell_type": "code",
   "execution_count": null,
   "metadata": {},
   "outputs": [],
   "source": []
  },
  {
   "cell_type": "code",
   "execution_count": null,
   "metadata": {},
   "outputs": [],
   "source": []
  },
  {
   "cell_type": "code",
   "execution_count": null,
   "metadata": {},
   "outputs": [],
   "source": []
  }
 ],
 "metadata": {
  "kernelspec": {
   "display_name": "Python 3",
   "language": "python",
   "name": "python3"
  },
  "language_info": {
   "codemirror_mode": {
    "name": "ipython",
    "version": 3
   },
   "file_extension": ".py",
   "mimetype": "text/x-python",
   "name": "python",
   "nbconvert_exporter": "python",
   "pygments_lexer": "ipython3",
   "version": "3.6.5"
  }
 },
 "nbformat": 4,
 "nbformat_minor": 2
}
