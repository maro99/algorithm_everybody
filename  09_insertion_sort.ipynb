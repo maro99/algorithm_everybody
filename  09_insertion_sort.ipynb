{
 "cells": [
  {
   "cell_type": "code",
   "execution_count": 1,
   "metadata": {},
   "outputs": [],
   "source": [
    "#줄을 세우는데 일단 하나 세우고 넣을때 제 크기 비교해서 작고 큰 값 사이에 순서대로 삽입하는것 그순간은 순서가 맞네! "
   ]
  },
  {
   "cell_type": "code",
   "execution_count": 4,
   "metadata": {},
   "outputs": [],
   "source": [
    "# 쉽게 설명한 삽입 정렬\n",
    "# 입력: 리스트 a\n",
    "# 츨력: 정렬된 새 리스트 \n",
    "\n",
    "# 리스트 r에서 v가 들어가야 할 위치를 돌려주는 함수 \n",
    "def find_ins_idx(lista, ins):\n",
    "    \n",
    "    # 이미 정렬된 리스트 r의 자료를 앞에서부터 차례로 확인하여 \n",
    "    \n",
    "    for idx in range(0,len(lista)):\n",
    "        # v 값보다 i번 위치에 있는 자료 값이 크면\n",
    "        # v 가 그 값 바로 앞에 놓여야 정렬 순서가 유지됨\n",
    "        if ins < lista[idx]:\n",
    "            return idx\n",
    "    \n",
    "    # 적절한 위치를 못 찾았을 때는\n",
    "    # v가 r의 모든 자료보다 크다는 뜻이므로 맨 뒤에 삽입.\n",
    "    return len(lista)\n",
    "        "
   ]
  },
  {
   "cell_type": "code",
   "execution_count": 5,
   "metadata": {},
   "outputs": [
    {
     "name": "stdout",
     "output_type": "stream",
     "text": [
      "0\n",
      "[3]\n",
      "@@@@@@@@@@@\n",
      "1\n",
      "[3, 5]\n",
      "@@@@@@@@@@@\n",
      "[3, 5]\n",
      "0\n",
      "[1, 3, 5]\n",
      "@@@@@@@@@@@\n"
     ]
    }
   ],
   "source": [
    "# 바로 위의함수 테스트먼저 해봄. \n",
    "result = []\n",
    "\n",
    "ins = 3\n",
    "print(find_ins_idx(result,ins))\n",
    "result.insert(find_ins_idx(result,ins),ins)\n",
    "print(result)\n",
    "print('@@@@@@@@@@@')\n",
    "\n",
    "ins = 5\n",
    "print(find_ins_idx(result,ins))\n",
    "result.insert(find_ins_idx(result,ins),ins)\n",
    "print(result)\n",
    "print('@@@@@@@@@@@')\n",
    "\n",
    "ins = 1\n",
    "print(result)\n",
    "print(find_ins_idx(result,ins))\n",
    "result.insert(find_ins_idx(result,ins),ins)\n",
    "print(result)\n",
    "print('@@@@@@@@@@@')\n"
   ]
  },
  {
   "cell_type": "code",
   "execution_count": 6,
   "metadata": {},
   "outputs": [
    {
     "name": "stdout",
     "output_type": "stream",
     "text": [
      "[3]\n",
      "[3, 7]\n",
      "[2, 3, 7]\n",
      "[2, 3, 5, 7]\n",
      "[1, 2, 3, 5, 7]\n",
      "[1, 2, 3, 4, 5, 7]\n"
     ]
    },
    {
     "data": {
      "text/plain": [
       "[1, 2, 3, 4, 5, 7]"
      ]
     },
     "execution_count": 6,
     "metadata": {},
     "output_type": "execute_result"
    }
   ],
   "source": [
    "def ins_sort(a):\n",
    "    result = [] # 새 리스트를 만들어 정렬된 값을 저장\n",
    "    \n",
    "    while a: # 기존 리스트에 값이 남아 있는 동안 반복\n",
    "        value = a.pop(0) # 기존 리스트에서 한 개를 꺼냄\n",
    "        ins_indx = find_ins_idx(result,value) # 꺼낸 값이 들어갈 적당한 위치 찾기\n",
    "        result.insert(ins_indx,value) # 찾은 위치에 값 삽입(이후 값은 한 칸씩 밀려남)\n",
    "        print(result)\n",
    "        \n",
    "    return(result)\n",
    "    \n",
    "ins_sort([3,7,2,5,1,4])    "
   ]
  },
  {
   "cell_type": "code",
   "execution_count": 7,
   "metadata": {},
   "outputs": [
    {
     "data": {
      "text/plain": [
       "[3, 7, 2, 5, 1, 4]"
      ]
     },
     "execution_count": 7,
     "metadata": {},
     "output_type": "execute_result"
    }
   ],
   "source": [
    "[3,7,2,5,1,4]"
   ]
  },
  {
   "cell_type": "code",
   "execution_count": 8,
   "metadata": {},
   "outputs": [],
   "source": [
    "# 일반적인 삽입정렬 알고리즘\n",
    "# 입력 리스트 안에서 직접 위치를 바꿔 정렬하는 삽입 정렬 프로그램"
   ]
  },
  {
   "cell_type": "code",
   "execution_count": 59,
   "metadata": {},
   "outputs": [
    {
     "name": "stdout",
     "output_type": "stream",
     "text": [
      "[1, 2, 3, 4, 5]\n"
     ]
    }
   ],
   "source": [
    "# 삽입 정렬\n",
    "# 입력: 리스트 a \n",
    "# 츨력: 없음(입력으로 주어진 a가 정렬됨)\n",
    "\n",
    "def ins_sort(a):\n",
    "    n = len(a)\n",
    "    \n",
    "    for i in range(1,n): # 1 부터 n-1 까지 \n",
    "        key = a[i] # i 번 위치에 있는 값을 key에 저장 \n",
    "        # j를 i 바로 왼쪽 위치로 저장\n",
    "        j = i-1\n",
    "        \n",
    "        # 리스트의 j 번 위치에 있는 값과 key를 비교해 key가 삽입될 적절한 위치를 찾음\n",
    "        while j >=0 and a[j] > key :\n",
    "            a[j+1] = a[j] # 삽입할 공간이 생기도록 값을 오른쪽으로 한칸 이동\n",
    "            j = j-1\n",
    "            \n",
    "        a[j+1] = key # 찾은 삽입 위치에 key 저장 \n",
    "\n",
    "\n",
    "d = [2,4,5,1,3]\n",
    "ins_sort(d)\n",
    "print(d)"
   ]
  },
  {
   "cell_type": "code",
   "execution_count": null,
   "metadata": {},
   "outputs": [],
   "source": []
  },
  {
   "cell_type": "markdown",
   "metadata": {},
   "source": [
    "```\n",
    "알고리즘 분석\n",
    "\n",
    "[1,2,3,4,5] 와 같은 리스트를 넣을경우 o(n)의 계산 복잡도로 정렬을 마칠 수 있다. \n",
    "하지만 일반적인 입력일때 삽입 정렬의 계산 복잡도는 선택 정렬과 같은 o(n^2) 이다.\n",
    "따라서 선택 정렬과 마찬가지로 정렬할 입력 크기가 크면 정렬하는 데 시간이 굉장히 오래 걸린다. \n",
    "``"
   ]
  },
  {
   "cell_type": "code",
   "execution_count": null,
   "metadata": {},
   "outputs": [],
   "source": [
    "# 나혼자 다시 한번 해봄. "
   ]
  },
  {
   "cell_type": "code",
   "execution_count": 54,
   "metadata": {},
   "outputs": [],
   "source": [
    "def ins_sort2(a):\n",
    "    n = len(a)\n",
    "\n",
    "    for i in range(0,n):\n",
    "        key = a[i]\n",
    "        j = i - 1 \n",
    "        print(f'key: {key}')\n",
    "        print(f'i:{i}')\n",
    "\n",
    "        \n",
    "        while j >=0 and a[j] > key:\n",
    "            print(f'j: {j}')\n",
    "            print(f'a[j] :{a[j]}')\n",
    "#             a[j+1],a[j] = a[j],a[j+1] 여기서 그냥 한번씩 치환 해줘보기도 했음. \n",
    "            a[j+1] = a [j]\n",
    "            j  = j - 1\n",
    "            print('@')\n",
    "            print(f'j: {j}')\n",
    "            print(f'a[j] :{a[j]}')\n",
    "            print(a)\n",
    "            print('@@@@@@@@@')\n",
    "        print(j+1)\n",
    "        a[j+1] = key\n",
    "        print('@@@@@@@@@@@@@@@@@@@@@@@@')"
   ]
  },
  {
   "cell_type": "code",
   "execution_count": 57,
   "metadata": {},
   "outputs": [
    {
     "name": "stdout",
     "output_type": "stream",
     "text": [
      "key: 2\n",
      "i:0\n",
      "0\n",
      "@@@@@@@@@@@@@@@@@@@@@@@@\n",
      "key: 4\n",
      "i:1\n",
      "1\n",
      "@@@@@@@@@@@@@@@@@@@@@@@@\n",
      "key: 5\n",
      "i:2\n",
      "2\n",
      "@@@@@@@@@@@@@@@@@@@@@@@@\n",
      "key: 1\n",
      "i:3\n",
      "j: 2\n",
      "a[j] :5\n",
      "@\n",
      "j: 1\n",
      "a[j] :4\n",
      "[2, 4, 5, 5, 3]\n",
      "@@@@@@@@@\n",
      "j: 1\n",
      "a[j] :4\n",
      "@\n",
      "j: 0\n",
      "a[j] :2\n",
      "[2, 4, 4, 5, 3]\n",
      "@@@@@@@@@\n",
      "j: 0\n",
      "a[j] :2\n",
      "@\n",
      "j: -1\n",
      "a[j] :3\n",
      "[2, 2, 4, 5, 3]\n",
      "@@@@@@@@@\n",
      "0\n",
      "@@@@@@@@@@@@@@@@@@@@@@@@\n",
      "key: 3\n",
      "i:4\n",
      "j: 3\n",
      "a[j] :5\n",
      "@\n",
      "j: 2\n",
      "a[j] :4\n",
      "[1, 2, 4, 5, 5]\n",
      "@@@@@@@@@\n",
      "j: 2\n",
      "a[j] :4\n",
      "@\n",
      "j: 1\n",
      "a[j] :2\n",
      "[1, 2, 4, 4, 5]\n",
      "@@@@@@@@@\n",
      "2\n",
      "@@@@@@@@@@@@@@@@@@@@@@@@\n",
      "[1, 2, 3, 4, 5]\n"
     ]
    }
   ],
   "source": [
    "d = [2,4,5,1,3]\n",
    "\n",
    "ins_sort2(d)\n",
    "print(d)"
   ]
  },
  {
   "cell_type": "code",
   "execution_count": null,
   "metadata": {},
   "outputs": [],
   "source": []
  },
  {
   "cell_type": "code",
   "execution_count": null,
   "metadata": {},
   "outputs": [],
   "source": []
  },
  {
   "cell_type": "code",
   "execution_count": null,
   "metadata": {},
   "outputs": [],
   "source": [
    "# 3회차 다시 여기 해보도록! "
   ]
  },
  {
   "cell_type": "code",
   "execution_count": null,
   "metadata": {},
   "outputs": [],
   "source": []
  },
  {
   "cell_type": "code",
   "execution_count": null,
   "metadata": {},
   "outputs": [],
   "source": []
  },
  {
   "cell_type": "code",
   "execution_count": null,
   "metadata": {},
   "outputs": [],
   "source": []
  },
  {
   "cell_type": "code",
   "execution_count": null,
   "metadata": {},
   "outputs": [],
   "source": []
  },
  {
   "cell_type": "code",
   "execution_count": null,
   "metadata": {},
   "outputs": [],
   "source": []
  },
  {
   "cell_type": "code",
   "execution_count": null,
   "metadata": {},
   "outputs": [],
   "source": []
  },
  {
   "cell_type": "code",
   "execution_count": null,
   "metadata": {},
   "outputs": [],
   "source": []
  },
  {
   "cell_type": "code",
   "execution_count": null,
   "metadata": {},
   "outputs": [],
   "source": []
  },
  {
   "cell_type": "code",
   "execution_count": null,
   "metadata": {},
   "outputs": [],
   "source": []
  },
  {
   "cell_type": "code",
   "execution_count": null,
   "metadata": {},
   "outputs": [],
   "source": []
  },
  {
   "cell_type": "code",
   "execution_count": null,
   "metadata": {},
   "outputs": [],
   "source": []
  },
  {
   "cell_type": "code",
   "execution_count": null,
   "metadata": {},
   "outputs": [],
   "source": []
  },
  {
   "cell_type": "code",
   "execution_count": null,
   "metadata": {},
   "outputs": [],
   "source": []
  }
 ],
 "metadata": {
  "kernelspec": {
   "display_name": "Python 3",
   "language": "python",
   "name": "python3"
  },
  "language_info": {
   "codemirror_mode": {
    "name": "ipython",
    "version": 3
   },
   "file_extension": ".py",
   "mimetype": "text/x-python",
   "name": "python",
   "nbconvert_exporter": "python",
   "pygments_lexer": "ipython3",
   "version": "3.6.5"
  }
 },
 "nbformat": 4,
 "nbformat_minor": 2
}
